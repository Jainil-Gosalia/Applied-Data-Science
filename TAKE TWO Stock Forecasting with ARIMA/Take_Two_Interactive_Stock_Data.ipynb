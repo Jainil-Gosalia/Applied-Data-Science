{
  "nbformat": 4,
  "nbformat_minor": 0,
  "metadata": {
    "colab": {
      "name": "Take-Two Interactive Stock Data.ipynb",
      "provenance": [],
      "collapsed_sections": []
    },
    "kernelspec": {
      "name": "python3",
      "display_name": "Python 3"
    },
    "language_info": {
      "name": "python"
    }
  },
  "cells": [
    {
      "cell_type": "code",
      "metadata": {
        "colab": {
          "base_uri": "https://localhost:8080/"
        },
        "id": "FA6QVRuXfbf_",
        "outputId": "9436cf0f-0a9a-4579-ee45-9ed0f389c103"
      },
      "source": [
        "import numpy as np \n",
        "import pandas as pd \n",
        "import matplotlib.pyplot as plt\n",
        "from pandas.plotting import lag_plot\n",
        "from pandas import datetime\n",
        "from statsmodels.tsa.arima_model import ARIMA\n",
        "from sklearn.metrics import mean_squared_error"
      ],
      "execution_count": 1,
      "outputs": [
        {
          "output_type": "stream",
          "name": "stderr",
          "text": [
            "/usr/local/lib/python3.7/dist-packages/ipykernel_launcher.py:5: FutureWarning: The pandas.datetime class is deprecated and will be removed from pandas in a future version. Import from datetime module instead.\n",
            "  \"\"\"\n",
            "/usr/local/lib/python3.7/dist-packages/statsmodels/tools/_testing.py:19: FutureWarning: pandas.util.testing is deprecated. Use the functions in the public API at pandas.testing instead.\n",
            "  import pandas.util.testing as tm\n"
          ]
        }
      ]
    },
    {
      "cell_type": "code",
      "metadata": {
        "id": "MaLdDffQgA3p"
      },
      "source": [
        "df = pd.read_csv(\"TTWO.csv\")"
      ],
      "execution_count": 2,
      "outputs": []
    },
    {
      "cell_type": "code",
      "metadata": {
        "colab": {
          "base_uri": "https://localhost:8080/",
          "height": 206
        },
        "id": "h7CyQj-kgXNJ",
        "outputId": "8f489a27-cdca-49c0-d6a5-d226b315cd76"
      },
      "source": [
        "df.head()"
      ],
      "execution_count": 3,
      "outputs": [
        {
          "output_type": "execute_result",
          "data": {
            "text/html": [
              "<div>\n",
              "<style scoped>\n",
              "    .dataframe tbody tr th:only-of-type {\n",
              "        vertical-align: middle;\n",
              "    }\n",
              "\n",
              "    .dataframe tbody tr th {\n",
              "        vertical-align: top;\n",
              "    }\n",
              "\n",
              "    .dataframe thead th {\n",
              "        text-align: right;\n",
              "    }\n",
              "</style>\n",
              "<table border=\"1\" class=\"dataframe\">\n",
              "  <thead>\n",
              "    <tr style=\"text-align: right;\">\n",
              "      <th></th>\n",
              "      <th>Date</th>\n",
              "      <th>Open</th>\n",
              "      <th>High</th>\n",
              "      <th>Low</th>\n",
              "      <th>Close</th>\n",
              "      <th>Adj Close</th>\n",
              "      <th>Volume</th>\n",
              "    </tr>\n",
              "  </thead>\n",
              "  <tbody>\n",
              "    <tr>\n",
              "      <th>0</th>\n",
              "      <td>1997-04-15</td>\n",
              "      <td>3.666667</td>\n",
              "      <td>3.916667</td>\n",
              "      <td>3.416667</td>\n",
              "      <td>3.916667</td>\n",
              "      <td>3.916425</td>\n",
              "      <td>1785600</td>\n",
              "    </tr>\n",
              "    <tr>\n",
              "      <th>1</th>\n",
              "      <td>1997-04-16</td>\n",
              "      <td>3.916667</td>\n",
              "      <td>4.166667</td>\n",
              "      <td>3.583333</td>\n",
              "      <td>3.708333</td>\n",
              "      <td>3.708104</td>\n",
              "      <td>443700</td>\n",
              "    </tr>\n",
              "    <tr>\n",
              "      <th>2</th>\n",
              "      <td>1997-04-17</td>\n",
              "      <td>3.750000</td>\n",
              "      <td>4.083333</td>\n",
              "      <td>3.750000</td>\n",
              "      <td>3.833333</td>\n",
              "      <td>3.833096</td>\n",
              "      <td>252150</td>\n",
              "    </tr>\n",
              "    <tr>\n",
              "      <th>3</th>\n",
              "      <td>1997-04-18</td>\n",
              "      <td>3.833333</td>\n",
              "      <td>4.000000</td>\n",
              "      <td>3.833333</td>\n",
              "      <td>4.000000</td>\n",
              "      <td>3.999753</td>\n",
              "      <td>165900</td>\n",
              "    </tr>\n",
              "    <tr>\n",
              "      <th>4</th>\n",
              "      <td>1997-04-21</td>\n",
              "      <td>3.916667</td>\n",
              "      <td>4.000000</td>\n",
              "      <td>3.916667</td>\n",
              "      <td>4.000000</td>\n",
              "      <td>3.999753</td>\n",
              "      <td>77400</td>\n",
              "    </tr>\n",
              "  </tbody>\n",
              "</table>\n",
              "</div>"
            ],
            "text/plain": [
              "         Date      Open      High       Low     Close  Adj Close   Volume\n",
              "0  1997-04-15  3.666667  3.916667  3.416667  3.916667   3.916425  1785600\n",
              "1  1997-04-16  3.916667  4.166667  3.583333  3.708333   3.708104   443700\n",
              "2  1997-04-17  3.750000  4.083333  3.750000  3.833333   3.833096   252150\n",
              "3  1997-04-18  3.833333  4.000000  3.833333  4.000000   3.999753   165900\n",
              "4  1997-04-21  3.916667  4.000000  3.916667  4.000000   3.999753    77400"
            ]
          },
          "metadata": {},
          "execution_count": 3
        }
      ]
    },
    {
      "cell_type": "code",
      "metadata": {
        "colab": {
          "base_uri": "https://localhost:8080/"
        },
        "id": "ZbkvgYzZj725",
        "outputId": "d98cef0c-c3ae-4200-9d4e-1fa5e8c3db77"
      },
      "source": [
        "df.count()"
      ],
      "execution_count": 4,
      "outputs": [
        {
          "output_type": "execute_result",
          "data": {
            "text/plain": [
              "Date         6194\n",
              "Open         6194\n",
              "High         6194\n",
              "Low          6194\n",
              "Close        6194\n",
              "Adj Close    6194\n",
              "Volume       6194\n",
              "dtype: int64"
            ]
          },
          "metadata": {},
          "execution_count": 4
        }
      ]
    },
    {
      "cell_type": "code",
      "metadata": {
        "colab": {
          "base_uri": "https://localhost:8080/",
          "height": 295
        },
        "id": "PD8_M_rkgZ_b",
        "outputId": "35871276-880a-482a-8eee-376f539c7476"
      },
      "source": [
        "plt.figure()\n",
        "lag_plot(df['Adj Close'], lag=3)\n",
        "plt.title('Take Two Stock - Autocorrelation plot with lag = 3')\n",
        "plt.show()"
      ],
      "execution_count": 5,
      "outputs": [
        {
          "output_type": "display_data",
          "data": {
            "image/png": "[encoded data removed]",
            "text/plain": [
              "<Figure size 432x288 with 1 Axes>"
            ]
          },
          "metadata": {
            "needs_background": "light"
          }
        }
      ]
    },
    {
      "cell_type": "code",
      "metadata": {
        "colab": {
          "base_uri": "https://localhost:8080/",
          "height": 295
        },
        "id": "nXjv0OjFjV-5",
        "outputId": "e3d099b0-c789-451d-c412-c98284436098"
      },
      "source": [
        "plt.plot(df[\"Date\"], df[\"Adj Close\"])\n",
        "plt.xticks(np.arange(0,6194, 200), df['Date'][0:6194:20])\n",
        "plt.title(\"TAKE TWO stock price over time\")\n",
        "plt.xlabel(\"time\")\n",
        "plt.ylabel(\"price\")\n",
        "plt.show()"
      ],
      "execution_count": 6,
      "outputs": [
        {
          "output_type": "display_data",
          "data": {
            "image/png": "[encoded data removed]",
            "text/plain": [
              "<Figure size 432x288 with 1 Axes>"
            ]
          },
          "metadata": {
            "needs_background": "light"
          }
        }
      ]
    },
    {
      "cell_type": "code",
      "metadata": {
        "id": "D1k130R7jxaX"
      },
      "source": [
        "train_data, test_data = df[0:int(len(df)*0.7)], df[int(len(df)*0.7):]"
      ],
      "execution_count": 7,
      "outputs": []
    },
    {
      "cell_type": "code",
      "metadata": {
        "id": "8q6zDDbGkN9t"
      },
      "source": [
        "training_data = train_data['Adj Close'].values\n",
        "test_data = test_data['Adj Close'].values"
      ],
      "execution_count": 8,
      "outputs": []
    },
    {
      "cell_type": "code",
      "metadata": {
        "id": "Q5QZHWf4kCVG"
      },
      "source": [
        "history = list(training_data)\n",
        "model_predictions = []\n",
        "N_test_observations = len(test_data)"
      ],
      "execution_count": 9,
      "outputs": []
    },
    {
      "cell_type": "code",
      "metadata": {
        "id": "zDggQVRQkZXE"
      },
      "source": [
        "for time_point in range(N_test_observations):\n",
        "    model = ARIMA(history, order=(4,1,0))\n",
        "    model_fit = model.fit(disp=0)\n",
        "    output = model_fit.forecast()\n",
        "    yhat = output[0]\n",
        "    model_predictions.append(yhat)\n",
        "    true_test_value = test_data[time_point]\n",
        "    history.append(true_test_value)"
      ],
      "execution_count": 10,
      "outputs": []
    },
    {
      "cell_type": "code",
      "metadata": {
        "colab": {
          "base_uri": "https://localhost:8080/"
        },
        "id": "SaLNFxMTkd5d",
        "outputId": "d9966846-3276-40a8-e206-5b3c05c67e2b"
      },
      "source": [
        "MSE_error = mean_squared_error(test_data, model_predictions)\n",
        "print('Testing Mean Squared Error is {}'.format(MSE_error))"
      ],
      "execution_count": 11,
      "outputs": [
        {
          "output_type": "stream",
          "name": "stdout",
          "text": [
            "Testing Mean Squared Error is 5.551342364525723\n"
          ]
        }
      ]
    },
    {
      "cell_type": "code",
      "metadata": {
        "id": "J-fxWhG3kjfO"
      },
      "source": [
        "test_set_range = df[int(len(df)*0.7):].index"
      ],
      "execution_count": 12,
      "outputs": []
    },
    {
      "cell_type": "code",
      "metadata": {
        "colab": {
          "base_uri": "https://localhost:8080/",
          "height": 295
        },
        "id": "xS2B7iD1kkA7",
        "outputId": "2043cafe-9adc-4d8f-c43d-d9b3aad859a6"
      },
      "source": [
        "plt.plot(test_set_range, model_predictions, color='blue', marker='o', linestyle='dashed',label='Predicted Price')\n",
        "plt.plot(test_set_range, test_data, color='red', label='Actual Price')\n",
        "\n",
        "plt.title('TAKE TWO Prices Prediction')\n",
        "plt.xlabel('Date')\n",
        "plt.ylabel('Prices')\n",
        "plt.legend()\n",
        "plt.show()"
      ],
      "execution_count": 13,
      "outputs": [
        {
          "output_type": "display_data",
          "data": {
            "image/png": "[encoded data removed]",
            "text/plain": [
              "<Figure size 432x288 with 1 Axes>"
            ]
          },
          "metadata": {
            "needs_background": "light"
          }
        }
      ]
    }
  ]
}