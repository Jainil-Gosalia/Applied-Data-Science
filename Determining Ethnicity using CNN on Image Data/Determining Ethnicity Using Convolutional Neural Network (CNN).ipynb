{
 "cells": [
  {
   "cell_type": "code",
   "execution_count": 1,
   "metadata": {},
   "outputs": [],
   "source": [
    "import pandas as pd\n",
    "import numpy as np\n",
    "import torch\n",
    "import torch.nn as nn\n",
    "import torch.nn.functional as F\n",
    "import torch.optim as optim\n",
    "from torch.utils.data import Dataset,DataLoader\n",
    "from sklearn.model_selection import train_test_split\n",
    "from sklearn.preprocessing import StandardScaler\n",
    "from sklearn.metrics import confusion_matrix, classification_report"
   ]
  },
  {
   "cell_type": "code",
   "execution_count": 2,
   "metadata": {},
   "outputs": [],
   "source": [
    "# Device configuration\n",
    "device = torch.device('cuda:0' if torch.cuda.is_available() else 'cpu')"
   ]
  },
  {
   "cell_type": "code",
   "execution_count": 3,
   "metadata": {},
   "outputs": [
    {
     "data": {
      "text/html": [
       "<div>\n",
       "<style scoped>\n",
       "    .dataframe tbody tr th:only-of-type {\n",
       "        vertical-align: middle;\n",
       "    }\n",
       "\n",
       "    .dataframe tbody tr th {\n",
       "        vertical-align: top;\n",
       "    }\n",
       "\n",
       "    .dataframe thead th {\n",
       "        text-align: right;\n",
       "    }\n",
       "</style>\n",
       "<table border=\"1\" class=\"dataframe\">\n",
       "  <thead>\n",
       "    <tr style=\"text-align: right;\">\n",
       "      <th></th>\n",
       "      <th>age</th>\n",
       "      <th>ethnicity</th>\n",
       "      <th>gender</th>\n",
       "      <th>img_name</th>\n",
       "      <th>pixels</th>\n",
       "    </tr>\n",
       "  </thead>\n",
       "  <tbody>\n",
       "    <tr>\n",
       "      <th>0</th>\n",
       "      <td>1</td>\n",
       "      <td>2</td>\n",
       "      <td>0</td>\n",
       "      <td>20161219203650636.jpg.chip.jpg</td>\n",
       "      <td>129 128 128 126 127 130 133 135 139 142 145 14...</td>\n",
       "    </tr>\n",
       "    <tr>\n",
       "      <th>1</th>\n",
       "      <td>1</td>\n",
       "      <td>2</td>\n",
       "      <td>0</td>\n",
       "      <td>20161219222752047.jpg.chip.jpg</td>\n",
       "      <td>164 74 111 168 169 171 175 182 184 188 193 199...</td>\n",
       "    </tr>\n",
       "    <tr>\n",
       "      <th>2</th>\n",
       "      <td>1</td>\n",
       "      <td>2</td>\n",
       "      <td>0</td>\n",
       "      <td>20161219222832191.jpg.chip.jpg</td>\n",
       "      <td>67 70 71 70 69 67 70 79 90 103 116 132 145 155...</td>\n",
       "    </tr>\n",
       "    <tr>\n",
       "      <th>3</th>\n",
       "      <td>1</td>\n",
       "      <td>2</td>\n",
       "      <td>0</td>\n",
       "      <td>20161220144911423.jpg.chip.jpg</td>\n",
       "      <td>193 197 198 200 199 200 202 203 204 205 208 21...</td>\n",
       "    </tr>\n",
       "    <tr>\n",
       "      <th>4</th>\n",
       "      <td>1</td>\n",
       "      <td>2</td>\n",
       "      <td>0</td>\n",
       "      <td>20161220144914327.jpg.chip.jpg</td>\n",
       "      <td>202 205 209 210 209 209 210 211 212 214 218 21...</td>\n",
       "    </tr>\n",
       "  </tbody>\n",
       "</table>\n",
       "</div>"
      ],
      "text/plain": [
       "   age  ethnicity  gender                        img_name  \\\n",
       "0    1          2       0  20161219203650636.jpg.chip.jpg   \n",
       "1    1          2       0  20161219222752047.jpg.chip.jpg   \n",
       "2    1          2       0  20161219222832191.jpg.chip.jpg   \n",
       "3    1          2       0  20161220144911423.jpg.chip.jpg   \n",
       "4    1          2       0  20161220144914327.jpg.chip.jpg   \n",
       "\n",
       "                                              pixels  \n",
       "0  129 128 128 126 127 130 133 135 139 142 145 14...  \n",
       "1  164 74 111 168 169 171 175 182 184 188 193 199...  \n",
       "2  67 70 71 70 69 67 70 79 90 103 116 132 145 155...  \n",
       "3  193 197 198 200 199 200 202 203 204 205 208 21...  \n",
       "4  202 205 209 210 209 209 210 211 212 214 218 21...  "
      ]
     },
     "execution_count": 3,
     "metadata": {},
     "output_type": "execute_result"
    }
   ],
   "source": [
    "df = pd.read_csv(\"age_gender.csv\")\n",
    "df.head()"
   ]
  },
  {
   "cell_type": "code",
   "execution_count": 4,
   "metadata": {},
   "outputs": [
    {
     "data": {
      "text/plain": [
       "age          0\n",
       "ethnicity    0\n",
       "gender       0\n",
       "img_name     0\n",
       "pixels       0\n",
       "dtype: int64"
      ]
     },
     "execution_count": 4,
     "metadata": {},
     "output_type": "execute_result"
    }
   ],
   "source": [
    "#Checking for NA values\n",
    "df.isna().sum()"
   ]
  },
  {
   "cell_type": "code",
   "execution_count": 5,
   "metadata": {},
   "outputs": [
    {
     "data": {
      "text/plain": [
       "5"
      ]
     },
     "execution_count": 5,
     "metadata": {},
     "output_type": "execute_result"
    }
   ],
   "source": [
    "Y = df['ethnicity']\n",
    "Y.nunique()"
   ]
  },
  {
   "cell_type": "code",
   "execution_count": 6,
   "metadata": {},
   "outputs": [
    {
     "name": "stdout",
     "output_type": "stream",
     "text": [
      "23705 2304\n"
     ]
    }
   ],
   "source": [
    "#Getting dimensions of pixels\n",
    "n_features = len(df.pixels[0].split())\n",
    "print(len(df.pixels), n_features)\n"
   ]
  },
  {
   "cell_type": "code",
   "execution_count": 7,
   "metadata": {},
   "outputs": [],
   "source": [
    "#Spliting String into respective floats\n",
    "X=np.zeros(shape=(23705,2304))\n",
    "\n",
    "for i in range(len(df.pixels)):\n",
    "    a=np.array(df.pixels[i].split(),dtype='float32')\n",
    "    X[i]=a"
   ]
  },
  {
   "cell_type": "code",
   "execution_count": 8,
   "metadata": {},
   "outputs": [
    {
     "data": {
      "text/plain": [
       "array([[129., 128., 128., ..., 146., 146., 146.],\n",
       "       [164.,  74., 111., ..., 182., 170., 148.],\n",
       "       [ 67.,  70.,  71., ..., 112., 111., 108.],\n",
       "       ...,\n",
       "       [ 59.,  50.,  37., ...,  98.,  78.,  78.],\n",
       "       [ 45., 108., 120., ...,  32.,  35.,  35.],\n",
       "       [156., 161., 160., ..., 190., 184., 174.]])"
      ]
     },
     "execution_count": 8,
     "metadata": {},
     "output_type": "execute_result"
    }
   ],
   "source": [
    "X"
   ]
  },
  {
   "cell_type": "code",
   "execution_count": 9,
   "metadata": {},
   "outputs": [],
   "source": [
    "X = X.reshape(-1,48,48)"
   ]
  },
  {
   "cell_type": "code",
   "execution_count": 10,
   "metadata": {},
   "outputs": [
    {
     "data": {
      "text/plain": [
       "(23705, 48, 48)"
      ]
     },
     "execution_count": 10,
     "metadata": {},
     "output_type": "execute_result"
    }
   ],
   "source": [
    "X.shape"
   ]
  },
  {
   "cell_type": "code",
   "execution_count": 11,
   "metadata": {},
   "outputs": [],
   "source": [
    "n = len(X)"
   ]
  },
  {
   "cell_type": "code",
   "execution_count": 12,
   "metadata": {},
   "outputs": [],
   "source": [
    "X_train, X_test, y_train, y_test = train_test_split(\n",
    "    X, Y, test_size=0.2, random_state=42)"
   ]
  },
  {
   "cell_type": "code",
   "execution_count": 13,
   "metadata": {},
   "outputs": [],
   "source": [
    "class ImageDataTrain(Dataset):\n",
    "    def __init__(self):\n",
    "        self.x = torch.unsqueeze(torch.from_numpy(X_train).float(),1)\n",
    "        self.y = torch.unsqueeze(torch.Tensor(y_train.values).float(),1)\n",
    "        self.n_samples = len(y_train)\n",
    "    def __getitem__(self,index):\n",
    "        return self.x[index], self.y[index]\n",
    "    def __len__(self):\n",
    "        return self.n_samples\n",
    "\n",
    "dataset_tr = ImageDataTrain()    \n",
    "train_loader = DataLoader(dataset=dataset_tr, batch_size=50, shuffle=True, num_workers=0)\n",
    "\n",
    "train_iter = iter(train_loader)\n",
    "train_data = train_iter.next()"
   ]
  },
  {
   "cell_type": "code",
   "execution_count": 14,
   "metadata": {},
   "outputs": [],
   "source": [
    "class ImageDataTest(Dataset):\n",
    "    def __init__(self):\n",
    "        self.x = torch.unsqueeze(torch.from_numpy(X_test).float(),1)\n",
    "        self.y = torch.unsqueeze(torch.Tensor(y_test.values).float(),1)\n",
    "        self.n_samples = len(y_test)\n",
    "    def __getitem__(self,index):\n",
    "        return self.x[index], self.y[index]\n",
    "    def __len__(self):\n",
    "        return self.n_samples\n",
    "\n",
    "dataset_te = ImageDataTest()    \n",
    "test_loader = DataLoader(dataset=dataset_te, batch_size=500, shuffle=True, num_workers=0)\n",
    "\n",
    "test_iter = iter(test_loader)\n",
    "test_data = test_iter.next()\n",
    "test_features, test_labels = test_data"
   ]
  },
  {
   "cell_type": "code",
   "execution_count": 15,
   "metadata": {},
   "outputs": [
    {
     "name": "stdout",
     "output_type": "stream",
     "text": [
      "Ethinicity(\n",
      "  (conv_layers): Sequential(\n",
      "    (0): Conv2d(1, 32, kernel_size=(3, 3), stride=(1, 1), padding=(1, 1))\n",
      "    (1): ReLU(inplace=True)\n",
      "    (2): BatchNorm2d(32, eps=1e-05, momentum=0.1, affine=True, track_running_stats=True)\n",
      "    (3): MaxPool2d(kernel_size=2, stride=2, padding=0, dilation=1, ceil_mode=False)\n",
      "    (4): Conv2d(32, 64, kernel_size=(3, 3), stride=(1, 1), padding=(1, 1))\n",
      "    (5): ReLU(inplace=True)\n",
      "    (6): BatchNorm2d(64, eps=1e-05, momentum=0.1, affine=True, track_running_stats=True)\n",
      "    (7): MaxPool2d(kernel_size=2, stride=2, padding=0, dilation=1, ceil_mode=False)\n",
      "    (8): Conv2d(64, 128, kernel_size=(3, 3), stride=(1, 1), padding=(1, 1))\n",
      "    (9): ReLU(inplace=True)\n",
      "    (10): BatchNorm2d(128, eps=1e-05, momentum=0.1, affine=True, track_running_stats=True)\n",
      "    (11): MaxPool2d(kernel_size=2, stride=2, padding=0, dilation=1, ceil_mode=False)\n",
      "  )\n",
      "  (linear_layers): Sequential(\n",
      "    (0): Linear(in_features=4608, out_features=5, bias=True)\n",
      "  )\n",
      ")\n"
     ]
    }
   ],
   "source": [
    "class Ethinicity(nn.Module):\n",
    "    def __init__(self):\n",
    "        super(Ethinicity,self).__init__()\n",
    "        \n",
    "        self.conv_layers = nn.Sequential(\n",
    "                        #Conv Layer 1\n",
    "                        nn.Conv2d(in_channels=1,out_channels=32, kernel_size=3,stride=1,padding=1),\n",
    "                        nn.ReLU(inplace=True),\n",
    "                        nn.BatchNorm2d(32),\n",
    "                        nn.MaxPool2d(kernel_size=2, stride=2),\n",
    "                        #Conv Layer 2\n",
    "                        nn.Conv2d(in_channels=32,out_channels=64, kernel_size=3,stride=1,padding=1),\n",
    "                        nn.ReLU(inplace=True),\n",
    "                        nn.BatchNorm2d(64),\n",
    "                        nn.MaxPool2d(kernel_size=2, stride=2),\n",
    "                        #Conv Layer 3\n",
    "                        nn.Conv2d(in_channels=64,out_channels=128, kernel_size=3,stride=1,padding=1),\n",
    "                        nn.ReLU(inplace=True),\n",
    "                        nn.BatchNorm2d(128),\n",
    "                        nn.MaxPool2d(kernel_size=2, stride=2))\n",
    "        \n",
    "        self.linear_layers = nn.Sequential(\n",
    "                        nn.Linear(128*6*6,5))\n",
    "        \n",
    "    \n",
    "    def forward(self, x):\n",
    "        x = self.conv_layers(x)\n",
    "        x = x.view(x.size(0),-1)\n",
    "        x = self.linear_layers(x)\n",
    "        return x\n",
    "\n",
    "net = Ethinicity()\n",
    "print(net)"
   ]
  },
  {
   "cell_type": "code",
   "execution_count": 16,
   "metadata": {},
   "outputs": [],
   "source": [
    "# Loss and optimizer\n",
    "criterion = nn.CrossEntropyLoss()\n",
    "optimizer = optim.Adam(net.parameters(), lr=0.003)\n"
   ]
  },
  {
   "cell_type": "code",
   "execution_count": 17,
   "metadata": {},
   "outputs": [],
   "source": [
    "num_epochs = 5"
   ]
  },
  {
   "cell_type": "code",
   "execution_count": 18,
   "metadata": {},
   "outputs": [
    {
     "name": "stdout",
     "output_type": "stream",
     "text": [
      "Epoch [1/5], Step [100/380], Loss: 1.7809\n",
      "Epoch [1/5], Step [200/380], Loss: 1.2058\n",
      "Epoch [1/5], Step [300/380], Loss: 0.8770\n",
      "Epoch [2/5], Step [100/380], Loss: 0.5989\n",
      "Epoch [2/5], Step [200/380], Loss: 0.7937\n",
      "Epoch [2/5], Step [300/380], Loss: 0.9799\n",
      "Epoch [3/5], Step [100/380], Loss: 0.6487\n",
      "Epoch [3/5], Step [200/380], Loss: 0.6695\n",
      "Epoch [3/5], Step [300/380], Loss: 0.6909\n",
      "Epoch [4/5], Step [100/380], Loss: 0.4725\n",
      "Epoch [4/5], Step [200/380], Loss: 0.9247\n",
      "Epoch [4/5], Step [300/380], Loss: 0.5826\n",
      "Epoch [5/5], Step [100/380], Loss: 0.3374\n",
      "Epoch [5/5], Step [200/380], Loss: 0.5193\n",
      "Epoch [5/5], Step [300/380], Loss: 0.4073\n"
     ]
    }
   ],
   "source": [
    "total_step = len(train_loader)\n",
    "net.train()\n",
    "for epoch in range(num_epochs):\n",
    "    for i, (images, labels) in enumerate(train_loader):\n",
    "        images = images.to(device)\n",
    "        labels = labels.to(device)\n",
    "                \n",
    "        # Forward pass\n",
    "        outputs = net(images)\n",
    "        loss = criterion(outputs, labels.squeeze().long())\n",
    "        \n",
    "        # Backward and optimize\n",
    "        optimizer.zero_grad()\n",
    "        loss.backward()\n",
    "        optimizer.step()\n",
    "        \n",
    "        if (i+1) % 100 == 0:\n",
    "            print ('Epoch [{}/{}], Step [{}/{}], Loss: {:.4f}' \n",
    "                   .format(epoch+1, num_epochs, i+1, total_step, loss.item()))"
   ]
  },
  {
   "cell_type": "code",
   "execution_count": 19,
   "metadata": {},
   "outputs": [],
   "source": [
    "net.eval()\n",
    "pred_labels = net(test_features)"
   ]
  },
  {
   "cell_type": "code",
   "execution_count": 20,
   "metadata": {},
   "outputs": [],
   "source": [
    "a = pred_labels.detach().numpy().tolist()\n",
    "y_pred = [int(a[i].index(max(a[i]))) for i in range(len(a))]\n",
    "a = test_labels.numpy().tolist()\n",
    "y_test = [int(a[i][0]) for i in range(len(a))]"
   ]
  },
  {
   "cell_type": "code",
   "execution_count": 21,
   "metadata": {},
   "outputs": [],
   "source": [
    "correct = 0\n",
    "incorrect = 0\n",
    "for i in range(len(y_test)):\n",
    "    if y_pred[i] == y_test[i]:\n",
    "        correct += 1\n",
    "    else:\n",
    "        incorrect += 1\n"
   ]
  },
  {
   "cell_type": "code",
   "execution_count": 22,
   "metadata": {},
   "outputs": [
    {
     "name": "stdout",
     "output_type": "stream",
     "text": [
      "Accuracy : 75.8 %\n"
     ]
    }
   ],
   "source": [
    "print(\"Accuracy :\",correct/(correct+incorrect)*100, \"%\")"
   ]
  },
  {
   "cell_type": "code",
   "execution_count": 23,
   "metadata": {},
   "outputs": [],
   "source": [
    "# Save the model checkpoint\n",
    "torch.save(net.state_dict(), 'model.ckpt')"
   ]
  }
 ],
 "metadata": {
  "kernelspec": {
   "display_name": "Python 3",
   "language": "python",
   "name": "python3"
  },
  "language_info": {
   "codemirror_mode": {
    "name": "ipython",
    "version": 3
   },
   "file_extension": ".py",
   "mimetype": "text/x-python",
   "name": "python",
   "nbconvert_exporter": "python",
   "pygments_lexer": "ipython3",
   "version": "3.8.5"
  }
 },
 "nbformat": 4,
 "nbformat_minor": 4
}
