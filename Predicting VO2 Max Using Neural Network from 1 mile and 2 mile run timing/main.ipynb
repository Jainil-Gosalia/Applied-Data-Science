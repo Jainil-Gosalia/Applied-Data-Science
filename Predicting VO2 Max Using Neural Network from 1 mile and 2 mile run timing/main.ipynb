{
 "cells": [
  {
   "cell_type": "code",
   "execution_count": 1,
   "metadata": {},
   "outputs": [],
   "source": [
    "import numpy as np\n",
    "import pandas as pd\n",
    "import matplotlib.pyplot as plt\n",
    "from sklearn import preprocessing\n",
    "from sklearn.model_selection import train_test_split\n",
    "import torch\n",
    "import torch.nn as nn\n",
    "import torch.nn.functional as F\n",
    "import torch.optim as optim\n",
    "from sklearn.metrics import r2_score"
   ]
  },
  {
   "cell_type": "code",
   "execution_count": 2,
   "metadata": {},
   "outputs": [
    {
     "data": {
      "text/html": [
       "<div>\n",
       "<style scoped>\n",
       "    .dataframe tbody tr th:only-of-type {\n",
       "        vertical-align: middle;\n",
       "    }\n",
       "\n",
       "    .dataframe tbody tr th {\n",
       "        vertical-align: top;\n",
       "    }\n",
       "\n",
       "    .dataframe thead th {\n",
       "        text-align: right;\n",
       "    }\n",
       "</style>\n",
       "<table border=\"1\" class=\"dataframe\">\n",
       "  <thead>\n",
       "    <tr style=\"text-align: right;\">\n",
       "      <th></th>\n",
       "      <th></th>\n",
       "      <th>actualtime1</th>\n",
       "      <th>actualtime2</th>\n",
       "      <th>AgeGrading</th>\n",
       "      <th>VO2Max</th>\n",
       "      <th>Riegel</th>\n",
       "      <th>Cameron</th>\n",
       "      <th>Average</th>\n",
       "      <th>MyFormula</th>\n",
       "      <th>Unnamed: 9</th>\n",
       "      <th>Unnamed: 10</th>\n",
       "      <th>Unnamed: 11</th>\n",
       "    </tr>\n",
       "  </thead>\n",
       "  <tbody>\n",
       "    <tr>\n",
       "      <th>0</th>\n",
       "      <td>1600 -&gt; 3200</td>\n",
       "      <td>252.0</td>\n",
       "      <td>555.0</td>\n",
       "      <td>537.0</td>\n",
       "      <td>540.0</td>\n",
       "      <td>525.0</td>\n",
       "      <td>541.0</td>\n",
       "      <td>536.0</td>\n",
       "      <td>535.0</td>\n",
       "      <td>NaN</td>\n",
       "      <td>NaN</td>\n",
       "      <td>NaN</td>\n",
       "    </tr>\n",
       "    <tr>\n",
       "      <th>1</th>\n",
       "      <td>1600 -&gt; 3200</td>\n",
       "      <td>296.0</td>\n",
       "      <td>620.0</td>\n",
       "      <td>631.0</td>\n",
       "      <td>634.0</td>\n",
       "      <td>617.0</td>\n",
       "      <td>635.0</td>\n",
       "      <td>629.0</td>\n",
       "      <td>629.0</td>\n",
       "      <td>NaN</td>\n",
       "      <td>NaN</td>\n",
       "      <td>NaN</td>\n",
       "    </tr>\n",
       "    <tr>\n",
       "      <th>2</th>\n",
       "      <td>1600 -&gt; 3200</td>\n",
       "      <td>273.0</td>\n",
       "      <td>579.0</td>\n",
       "      <td>582.0</td>\n",
       "      <td>585.0</td>\n",
       "      <td>569.0</td>\n",
       "      <td>586.0</td>\n",
       "      <td>580.0</td>\n",
       "      <td>580.0</td>\n",
       "      <td>NaN</td>\n",
       "      <td>NaN</td>\n",
       "      <td>NaN</td>\n",
       "    </tr>\n",
       "    <tr>\n",
       "      <th>3</th>\n",
       "      <td>1600 -&gt; 3200</td>\n",
       "      <td>276.0</td>\n",
       "      <td>602.0</td>\n",
       "      <td>588.0</td>\n",
       "      <td>591.0</td>\n",
       "      <td>575.0</td>\n",
       "      <td>592.0</td>\n",
       "      <td>587.0</td>\n",
       "      <td>586.0</td>\n",
       "      <td>NaN</td>\n",
       "      <td>NaN</td>\n",
       "      <td>NaN</td>\n",
       "    </tr>\n",
       "    <tr>\n",
       "      <th>4</th>\n",
       "      <td>1600 -&gt; 3200</td>\n",
       "      <td>263.0</td>\n",
       "      <td>554.0</td>\n",
       "      <td>561.0</td>\n",
       "      <td>563.0</td>\n",
       "      <td>548.0</td>\n",
       "      <td>564.0</td>\n",
       "      <td>559.0</td>\n",
       "      <td>559.0</td>\n",
       "      <td>NaN</td>\n",
       "      <td>NaN</td>\n",
       "      <td>NaN</td>\n",
       "    </tr>\n",
       "  </tbody>\n",
       "</table>\n",
       "</div>"
      ],
      "text/plain": [
       "                 actualtime1  actualtime2  AgeGrading  VO2Max  Riegel  \\\n",
       "0  1600 -> 3200        252.0        555.0       537.0   540.0   525.0   \n",
       "1  1600 -> 3200        296.0        620.0       631.0   634.0   617.0   \n",
       "2  1600 -> 3200        273.0        579.0       582.0   585.0   569.0   \n",
       "3  1600 -> 3200        276.0        602.0       588.0   591.0   575.0   \n",
       "4  1600 -> 3200        263.0        554.0       561.0   563.0   548.0   \n",
       "\n",
       "   Cameron  Average  MyFormula Unnamed: 9  Unnamed: 10 Unnamed: 11  \n",
       "0    541.0    536.0      535.0        NaN          NaN         NaN  \n",
       "1    635.0    629.0      629.0        NaN          NaN         NaN  \n",
       "2    586.0    580.0      580.0        NaN          NaN         NaN  \n",
       "3    592.0    587.0      586.0        NaN          NaN         NaN  \n",
       "4    564.0    559.0      559.0        NaN          NaN         NaN  "
      ]
     },
     "execution_count": 2,
     "metadata": {},
     "output_type": "execute_result"
    }
   ],
   "source": [
    "df = pd.read_csv(\"Running - Sheet2.csv\")\n",
    "df.head()"
   ]
  },
  {
   "cell_type": "code",
   "execution_count": 3,
   "metadata": {},
   "outputs": [
    {
     "data": {
      "text/plain": [
       "Index([' ', 'actualtime1', 'actualtime2', 'AgeGrading', 'VO2Max', 'Riegel',\n",
       "       'Cameron', 'Average', 'MyFormula', 'Unnamed: 9', 'Unnamed: 10',\n",
       "       'Unnamed: 11'],\n",
       "      dtype='object')"
      ]
     },
     "execution_count": 3,
     "metadata": {},
     "output_type": "execute_result"
    }
   ],
   "source": [
    "df.columns"
   ]
  },
  {
   "cell_type": "code",
   "execution_count": 4,
   "metadata": {},
   "outputs": [],
   "source": [
    "X = df[['actualtime1','actualtime2']]\n",
    "y = df['MyFormula']"
   ]
  },
  {
   "cell_type": "code",
   "execution_count": 5,
   "metadata": {},
   "outputs": [
    {
     "name": "stderr",
     "output_type": "stream",
     "text": [
      "C:\\Users\\Jainil\\AppData\\Local\\Temp\\ipykernel_13040\\196215820.py:1: SettingWithCopyWarning: \n",
      "A value is trying to be set on a copy of a slice from a DataFrame.\n",
      "Try using .loc[row_indexer,col_indexer] = value instead\n",
      "\n",
      "See the caveats in the documentation: https://pandas.pydata.org/pandas-docs/stable/user_guide/indexing.html#returning-a-view-versus-a-copy\n",
      "  X['y'] = y\n",
      "C:\\Users\\Jainil\\AppData\\Local\\Temp\\ipykernel_13040\\196215820.py:2: SettingWithCopyWarning: \n",
      "A value is trying to be set on a copy of a slice from a DataFrame\n",
      "\n",
      "See the caveats in the documentation: https://pandas.pydata.org/pandas-docs/stable/user_guide/indexing.html#returning-a-view-versus-a-copy\n",
      "  X.dropna(inplace=True)\n"
     ]
    },
    {
     "data": {
      "text/html": [
       "<div>\n",
       "<style scoped>\n",
       "    .dataframe tbody tr th:only-of-type {\n",
       "        vertical-align: middle;\n",
       "    }\n",
       "\n",
       "    .dataframe tbody tr th {\n",
       "        vertical-align: top;\n",
       "    }\n",
       "\n",
       "    .dataframe thead th {\n",
       "        text-align: right;\n",
       "    }\n",
       "</style>\n",
       "<table border=\"1\" class=\"dataframe\">\n",
       "  <thead>\n",
       "    <tr style=\"text-align: right;\">\n",
       "      <th></th>\n",
       "      <th>actualtime1</th>\n",
       "      <th>actualtime2</th>\n",
       "      <th>y</th>\n",
       "    </tr>\n",
       "  </thead>\n",
       "  <tbody>\n",
       "    <tr>\n",
       "      <th>0</th>\n",
       "      <td>252.0</td>\n",
       "      <td>555.0</td>\n",
       "      <td>535.0</td>\n",
       "    </tr>\n",
       "    <tr>\n",
       "      <th>1</th>\n",
       "      <td>296.0</td>\n",
       "      <td>620.0</td>\n",
       "      <td>629.0</td>\n",
       "    </tr>\n",
       "    <tr>\n",
       "      <th>2</th>\n",
       "      <td>273.0</td>\n",
       "      <td>579.0</td>\n",
       "      <td>580.0</td>\n",
       "    </tr>\n",
       "    <tr>\n",
       "      <th>3</th>\n",
       "      <td>276.0</td>\n",
       "      <td>602.0</td>\n",
       "      <td>586.0</td>\n",
       "    </tr>\n",
       "    <tr>\n",
       "      <th>4</th>\n",
       "      <td>263.0</td>\n",
       "      <td>554.0</td>\n",
       "      <td>559.0</td>\n",
       "    </tr>\n",
       "  </tbody>\n",
       "</table>\n",
       "</div>"
      ],
      "text/plain": [
       "   actualtime1  actualtime2      y\n",
       "0        252.0        555.0  535.0\n",
       "1        296.0        620.0  629.0\n",
       "2        273.0        579.0  580.0\n",
       "3        276.0        602.0  586.0\n",
       "4        263.0        554.0  559.0"
      ]
     },
     "execution_count": 5,
     "metadata": {},
     "output_type": "execute_result"
    }
   ],
   "source": [
    "X['y'] = y\n",
    "X.dropna(inplace=True)\n",
    "X.head()"
   ]
  },
  {
   "cell_type": "code",
   "execution_count": 6,
   "metadata": {},
   "outputs": [],
   "source": [
    "y = X['y']\n",
    "del X[\"y\"]"
   ]
  },
  {
   "cell_type": "code",
   "execution_count": 7,
   "metadata": {},
   "outputs": [],
   "source": [
    "#train test split\n",
    "X_train, X_test, y_train, y_test = train_test_split(X, y, test_size=0.2, random_state=42)\n",
    "\n",
    "#Converting to tensors for ML\n",
    "x_train = torch.from_numpy(X_train.to_numpy()).float()\n",
    "x_test = torch.from_numpy(X_test.to_numpy()).float()\n",
    "y_train = torch.from_numpy(y_train.to_numpy()).float()\n",
    "y_test = torch.from_numpy(y_test.to_numpy()).float()"
   ]
  },
  {
   "cell_type": "code",
   "execution_count": 8,
   "metadata": {},
   "outputs": [
    {
     "data": {
      "text/plain": [
       "(torch.Size([107, 2]), torch.Size([107]))"
      ]
     },
     "execution_count": 8,
     "metadata": {},
     "output_type": "execute_result"
    }
   ],
   "source": [
    "x_train.shape, y_train.shape"
   ]
  },
  {
   "cell_type": "code",
   "execution_count": 9,
   "metadata": {},
   "outputs": [
    {
     "name": "stdout",
     "output_type": "stream",
     "text": [
      "NET(\n",
      "  (fc1): Linear(in_features=2, out_features=5, bias=True)\n",
      "  (fc2): Linear(in_features=5, out_features=5, bias=True)\n",
      "  (fc3): Linear(in_features=5, out_features=1, bias=True)\n",
      ")\n"
     ]
    }
   ],
   "source": [
    "#Neural Network\n",
    "class NET(nn.Module):\n",
    "    def __init__(self):\n",
    "        super(NET,self).__init__()\n",
    "        self.fc1 = nn.Linear(2,5)\n",
    "        self.fc2 = nn.Linear(5,5)\n",
    "        self.fc3 = nn.Linear(5,1)\n",
    "    def forward(self,x):\n",
    "        x = F.relu(self.fc1(x))\n",
    "        x = F.relu(self.fc2(x))\n",
    "        x = self.fc3(x)\n",
    "        return x\n",
    "    def save(self, model_path):\n",
    "        torch.save(net.state_dict(), model_path)\n",
    "\n",
    "    def load(self, model_path):\n",
    "        self.load_state_dict(torch.load(model_path))\n",
    "        self.eval()\n",
    "\n",
    "net = NET()\n",
    "net.train()\n",
    "print(net)"
   ]
  },
  {
   "cell_type": "code",
   "execution_count": 10,
   "metadata": {},
   "outputs": [],
   "source": [
    "loss_function = nn.MSELoss()  \n",
    "optimizer = torch.optim.Adam(net.parameters(),lr=0.01)  \n",
    "epochs=500\n",
    "final_losses=[]"
   ]
  },
  {
   "cell_type": "code",
   "execution_count": 11,
   "metadata": {},
   "outputs": [
    {
     "data": {
      "text/plain": [
       "(torch.Size([107, 2]),\n",
       " torch.Size([107]),\n",
       " torch.Size([27, 2]),\n",
       " torch.Size([27]))"
      ]
     },
     "execution_count": 11,
     "metadata": {},
     "output_type": "execute_result"
    }
   ],
   "source": [
    "x_train.shape, y_train.shape, x_test.shape, y_test.shape"
   ]
  },
  {
   "cell_type": "code",
   "execution_count": 12,
   "metadata": {},
   "outputs": [
    {
     "name": "stdout",
     "output_type": "stream",
     "text": [
      "Epoch number: 1 and the loss : 285440.90625\n"
     ]
    },
    {
     "name": "stderr",
     "output_type": "stream",
     "text": [
      "c:\\Users\\Jainil\\miniconda3\\envs\\generic\\lib\\site-packages\\torch\\nn\\modules\\loss.py:536: UserWarning: Using a target size (torch.Size([107])) that is different to the input size (torch.Size([107, 1])). This will likely lead to incorrect results due to broadcasting. Please ensure they have the same size.\n",
      "  return F.mse_loss(input, target, reduction=self.reduction)\n"
     ]
    },
    {
     "name": "stdout",
     "output_type": "stream",
     "text": [
      "Epoch number: 11 and the loss : 152360.890625\n",
      "Epoch number: 21 and the loss : 26220.7265625\n",
      "Epoch number: 31 and the loss : 10780.583984375\n",
      "Epoch number: 41 and the loss : 3510.439453125\n",
      "Epoch number: 51 and the loss : 3857.5244140625\n",
      "Epoch number: 61 and the loss : 3910.014404296875\n",
      "Epoch number: 71 and the loss : 3654.69287109375\n",
      "Epoch number: 81 and the loss : 3531.413330078125\n",
      "Epoch number: 91 and the loss : 3503.255859375\n",
      "Epoch number: 101 and the loss : 3500.007568359375\n",
      "Epoch number: 111 and the loss : 3499.556884765625\n",
      "Epoch number: 121 and the loss : 3498.895263671875\n",
      "Epoch number: 131 and the loss : 3498.097900390625\n",
      "Epoch number: 141 and the loss : 3497.286376953125\n",
      "Epoch number: 151 and the loss : 3496.4736328125\n",
      "Epoch number: 161 and the loss : 3495.644287109375\n",
      "Epoch number: 171 and the loss : 3494.791259765625\n",
      "Epoch number: 181 and the loss : 3493.90966796875\n",
      "Epoch number: 191 and the loss : 3492.99609375\n",
      "Epoch number: 201 and the loss : 3492.050048828125\n",
      "Epoch number: 211 and the loss : 3491.074951171875\n",
      "Epoch number: 221 and the loss : 3490.064697265625\n",
      "Epoch number: 231 and the loss : 3489.025146484375\n",
      "Epoch number: 241 and the loss : 3487.951171875\n",
      "Epoch number: 251 and the loss : 3486.84326171875\n",
      "Epoch number: 261 and the loss : 3485.703857421875\n",
      "Epoch number: 271 and the loss : 3484.52783203125\n",
      "Epoch number: 281 and the loss : 3483.320556640625\n",
      "Epoch number: 291 and the loss : 3482.076416015625\n",
      "Epoch number: 301 and the loss : 3480.795166015625\n",
      "Epoch number: 311 and the loss : 3479.478271484375\n",
      "Epoch number: 321 and the loss : 3478.12451171875\n",
      "Epoch number: 331 and the loss : 3476.73046875\n",
      "Epoch number: 341 and the loss : 3475.29736328125\n",
      "Epoch number: 351 and the loss : 3473.824462890625\n",
      "Epoch number: 361 and the loss : 3472.30908203125\n",
      "Epoch number: 371 and the loss : 3470.75\n",
      "Epoch number: 381 and the loss : 3469.14697265625\n",
      "Epoch number: 391 and the loss : 3467.498046875\n",
      "Epoch number: 401 and the loss : 3465.801025390625\n",
      "Epoch number: 411 and the loss : 3464.054931640625\n",
      "Epoch number: 421 and the loss : 3462.257080078125\n",
      "Epoch number: 431 and the loss : 3460.406982421875\n",
      "Epoch number: 441 and the loss : 3458.501953125\n",
      "Epoch number: 451 and the loss : 3456.5390625\n",
      "Epoch number: 461 and the loss : 3454.516845703125\n",
      "Epoch number: 471 and the loss : 3452.431396484375\n",
      "Epoch number: 481 and the loss : 3450.2841796875\n",
      "Epoch number: 491 and the loss : 3448.068359375\n"
     ]
    }
   ],
   "source": [
    "for i in range(epochs):\n",
    "    i= i+1\n",
    "    y_pred=net.forward(x_train)\n",
    "    loss=loss_function(y_pred,y_train)\n",
    "    final_losses.append(loss)\n",
    "    if i % 10 == 1:\n",
    "        print(\"Epoch number: {} and the loss : {}\".format(i,loss.item()))\n",
    "    optimizer.zero_grad()\n",
    "    loss.backward()\n",
    "    optimizer.step()"
   ]
  },
  {
   "cell_type": "code",
   "execution_count": 13,
   "metadata": {},
   "outputs": [
    {
     "data": {
      "text/plain": [
       "NET(\n",
       "  (fc1): Linear(in_features=2, out_features=5, bias=True)\n",
       "  (fc2): Linear(in_features=5, out_features=5, bias=True)\n",
       "  (fc3): Linear(in_features=5, out_features=1, bias=True)\n",
       ")"
      ]
     },
     "execution_count": 13,
     "metadata": {},
     "output_type": "execute_result"
    }
   ],
   "source": [
    "net.eval()"
   ]
  },
  {
   "cell_type": "code",
   "execution_count": 14,
   "metadata": {},
   "outputs": [],
   "source": [
    "y_pred = net(x_test)\n",
    "y_pred = y_pred.detach().numpy()"
   ]
  },
  {
   "cell_type": "code",
   "execution_count": 15,
   "metadata": {},
   "outputs": [
    {
     "data": {
      "text/plain": [
       "0.8584539093543881"
      ]
     },
     "execution_count": 15,
     "metadata": {},
     "output_type": "execute_result"
    }
   ],
   "source": [
    "r2_score(y_test,y_pred)"
   ]
  }
 ],
 "metadata": {
  "kernelspec": {
   "display_name": "Python 3.9.0 ('generic')",
   "language": "python",
   "name": "python3"
  },
  "language_info": {
   "codemirror_mode": {
    "name": "ipython",
    "version": 3
   },
   "file_extension": ".py",
   "mimetype": "text/x-python",
   "name": "python",
   "nbconvert_exporter": "python",
   "pygments_lexer": "ipython3",
   "version": "3.9.15"
  },
  "orig_nbformat": 4,
  "vscode": {
   "interpreter": {
    "hash": "07d77d5276db7f8c2c6e514d5e58ce83f29d5d678585b3b4b52d4e14de9ba8ce"
   }
  }
 },
 "nbformat": 4,
 "nbformat_minor": 2
}
